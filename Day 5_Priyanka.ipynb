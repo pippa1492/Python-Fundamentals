{
 "cells": [
  {
   "cell_type": "code",
   "execution_count": 1,
   "metadata": {},
   "outputs": [],
   "source": [
    "## -- FOR loop -- ##"
   ]
  },
  {
   "cell_type": "code",
   "execution_count": 2,
   "metadata": {},
   "outputs": [
    {
     "name": "stdout",
     "output_type": "stream",
     "text": [
      "['chennai', 'delhi', 'mumbai', 'hyderabad', 'bangalore', 'calicut']\n"
     ]
    }
   ],
   "source": [
    "our_city = ['chennai','delhi','mumbai','hyderabad','bangalore','calicut']\n",
    "\n",
    "print(our_city)"
   ]
  },
  {
   "cell_type": "code",
   "execution_count": 3,
   "metadata": {},
   "outputs": [
    {
     "name": "stdout",
     "output_type": "stream",
     "text": [
      "Welcome to mumbai\n"
     ]
    }
   ],
   "source": [
    "print(f\"Welcome to {our_city[2]}\")\n"
   ]
  },
  {
   "cell_type": "code",
   "execution_count": 4,
   "metadata": {},
   "outputs": [
    {
     "name": "stdout",
     "output_type": "stream",
     "text": [
      "Welcome To Mumbai\n"
     ]
    }
   ],
   "source": [
    "print(f\"Welcome to {our_city[2]}\". title())"
   ]
  },
  {
   "cell_type": "code",
   "execution_count": 5,
   "metadata": {},
   "outputs": [],
   "source": [
    "## -- FOR Syntax -- ##"
   ]
  },
  {
   "cell_type": "code",
   "execution_count": 7,
   "metadata": {},
   "outputs": [
    {
     "name": "stdout",
     "output_type": "stream",
     "text": [
      "Chennai\n",
      "Delhi\n",
      "Mumbai\n",
      "Hyderabad\n",
      "Bangalore\n",
      "Calicut\n"
     ]
    }
   ],
   "source": [
    "for x in our_city:\n",
    "    print(x.title())\n",
    "    "
   ]
  },
  {
   "cell_type": "code",
   "execution_count": null,
   "metadata": {},
   "outputs": [],
   "source": [
    "## -- Enhancement of code within FOR loop -- ##"
   ]
  },
  {
   "cell_type": "code",
   "execution_count": 8,
   "metadata": {},
   "outputs": [
    {
     "name": "stdout",
     "output_type": "stream",
     "text": [
      "Welcome To Chennai\n",
      "Welcome To Delhi\n",
      "Welcome To Mumbai\n",
      "Welcome To Hyderabad\n",
      "Welcome To Bangalore\n",
      "Welcome To Calicut\n"
     ]
    }
   ],
   "source": [
    "for x in our_city:\n",
    "    print(f\"Welcome to {x}\".title())"
   ]
  },
  {
   "cell_type": "code",
   "execution_count": 9,
   "metadata": {},
   "outputs": [
    {
     "name": "stdout",
     "output_type": "stream",
     "text": [
      "Welcome to Chennai\n",
      "Enjoyr your stay in Chennai\n",
      "Welcome to Delhi\n",
      "Enjoyr your stay in Delhi\n",
      "Welcome to Mumbai\n",
      "Enjoyr your stay in Mumbai\n",
      "Welcome to Hyderabad\n",
      "Enjoyr your stay in Hyderabad\n",
      "Welcome to Bangalore\n",
      "Enjoyr your stay in Bangalore\n",
      "Welcome to Calicut\n",
      "Enjoyr your stay in Calicut\n"
     ]
    }
   ],
   "source": [
    "\n",
    "for x in our_city:\n",
    "    print(f\"Welcome to {x.title()}\")\n",
    "    print(f\"Enjoyr your stay in {x.title()}\")"
   ]
  },
  {
   "cell_type": "code",
   "execution_count": 10,
   "metadata": {},
   "outputs": [],
   "source": [
    "## -- Enhancement with new line delimite -- ##"
   ]
  },
  {
   "cell_type": "code",
   "execution_count": 11,
   "metadata": {},
   "outputs": [
    {
     "name": "stdout",
     "output_type": "stream",
     "text": [
      "Welcome to Chennai,\n",
      "Enjoy your stay in Chennai.\n",
      "\n",
      "Welcome to Delhi,\n",
      "Enjoy your stay in Delhi.\n",
      "\n",
      "Welcome to Mumbai,\n",
      "Enjoy your stay in Mumbai.\n",
      "\n",
      "Welcome to Hyderabad,\n",
      "Enjoy your stay in Hyderabad.\n",
      "\n",
      "Welcome to Bangalore,\n",
      "Enjoy your stay in Bangalore.\n",
      "\n",
      "Welcome to Calicut,\n",
      "Enjoy your stay in Calicut.\n",
      "\n"
     ]
    }
   ],
   "source": [
    "for x in our_city:\n",
    "    print(f\"Welcome to {x.title()},\")\n",
    "    print(f\"Enjoy your stay in {x.title()}.\\n\")"
   ]
  },
  {
   "cell_type": "code",
   "execution_count": 12,
   "metadata": {},
   "outputs": [],
   "source": [
    "## -- Enhancement with sort funtions -- ##\n"
   ]
  },
  {
   "cell_type": "code",
   "execution_count": 13,
   "metadata": {},
   "outputs": [
    {
     "name": "stdout",
     "output_type": "stream",
     "text": [
      "Welcome to Bangalore,\n",
      "Enjoy your stay in Bangalore.\n",
      "\n",
      "Welcome to Calicut,\n",
      "Enjoy your stay in Calicut.\n",
      "\n",
      "Welcome to Chennai,\n",
      "Enjoy your stay in Chennai.\n",
      "\n",
      "Welcome to Delhi,\n",
      "Enjoy your stay in Delhi.\n",
      "\n",
      "Welcome to Hyderabad,\n",
      "Enjoy your stay in Hyderabad.\n",
      "\n",
      "Welcome to Mumbai,\n",
      "Enjoy your stay in Mumbai.\n",
      "\n"
     ]
    }
   ],
   "source": [
    "city = sorted(our_city)\n",
    "\n",
    "for x in city:\n",
    "    print(f\"Welcome to {x.title()},\")\n",
    "    print(f\"Enjoy your stay in {x.title()}.\\n\")"
   ]
  },
  {
   "cell_type": "code",
   "execution_count": 14,
   "metadata": {},
   "outputs": [
    {
     "name": "stdout",
     "output_type": "stream",
     "text": [
      "Welcome to Bangalore\n",
      "Welcome to Calicut\n",
      "Welcome to Chennai\n",
      "Welcome to Delhi\n",
      "Welcome to Hyderabad\n",
      "Welcome to Mumbai\n"
     ]
    }
   ],
   "source": [
    "for x in city:\n",
    "    print(f\"Welcome to {x.title()}\")"
   ]
  },
  {
   "cell_type": "code",
   "execution_count": 15,
   "metadata": {},
   "outputs": [
    {
     "name": "stdout",
     "output_type": "stream",
     "text": [
      "['chennai', 'delhi', 'mumbai', 'hyderabad', 'bangalore', 'calicut']\n"
     ]
    }
   ],
   "source": [
    "print(our_city)\n",
    "\n"
   ]
  },
  {
   "cell_type": "code",
   "execution_count": 16,
   "metadata": {},
   "outputs": [
    {
     "name": "stdout",
     "output_type": "stream",
     "text": [
      "['bangalore', 'calicut', 'chennai', 'delhi', 'hyderabad', 'mumbai']\n"
     ]
    }
   ],
   "source": [
    "print(city)"
   ]
  },
  {
   "cell_type": "code",
   "execution_count": 17,
   "metadata": {},
   "outputs": [],
   "source": [
    "\n",
    "## -- IF ELSE condition statement -- ##"
   ]
  },
  {
   "cell_type": "code",
   "execution_count": 18,
   "metadata": {},
   "outputs": [
    {
     "name": "stdout",
     "output_type": "stream",
     "text": [
      "Welcome to Bangalore\n",
      "\n",
      "Welcome to Calicut\n",
      "\n",
      "Welcome to Chennai\n",
      "\n",
      "Welcome to Delhi\n",
      "\n",
      "Welcome to Hyderabad\n",
      "\n",
      "Maharashtra welcomes you to MUMBAI\n",
      "\n"
     ]
    }
   ],
   "source": [
    "\n",
    "for y in city:\n",
    "    if y == 'mumbai':\n",
    "        print(f\"Maharashtra welcomes you to {y.upper()}\\n\")\n",
    "    else:\n",
    "        print(f\"Welcome to {y.title()}\\n\")\n",
    "        "
   ]
  },
  {
   "cell_type": "code",
   "execution_count": 19,
   "metadata": {},
   "outputs": [
    {
     "name": "stdout",
     "output_type": "stream",
     "text": [
      "Welcome to Chennai\n",
      "\n",
      "Delhi welcomes you to DELHI\n",
      "\n",
      "Welcome to Mumbai\n",
      "\n",
      "Welcome to Hyderabad\n",
      "\n",
      "Welcome to Bangalore\n",
      "\n",
      "Welcome to Calicut\n",
      "\n"
     ]
    }
   ],
   "source": [
    "for y in our_city:\n",
    "    if y == 'delhi':\n",
    "        print(f\"Delhi welcomes you to {y.upper()}\\n\")\n",
    "    else:\n",
    "        print(f\"Welcome to {y.title()}\\n\")"
   ]
  },
  {
   "cell_type": "code",
   "execution_count": null,
   "metadata": {},
   "outputs": [],
   "source": []
  }
 ],
 "metadata": {
  "kernelspec": {
   "display_name": "Python 3",
   "language": "python",
   "name": "python3"
  },
  "language_info": {
   "codemirror_mode": {
    "name": "ipython",
    "version": 3
   },
   "file_extension": ".py",
   "mimetype": "text/x-python",
   "name": "python",
   "nbconvert_exporter": "python",
   "pygments_lexer": "ipython3",
   "version": "3.7.4"
  }
 },
 "nbformat": 4,
 "nbformat_minor": 2
}
