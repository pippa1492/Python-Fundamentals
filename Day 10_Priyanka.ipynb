{
 "cells": [
  {
   "cell_type": "code",
   "execution_count": null,
   "metadata": {},
   "outputs": [],
   "source": [
    "# Defining a dictionary in 3 Different ways "
   ]
  },
  {
   "cell_type": "code",
   "execution_count": 1,
   "metadata": {},
   "outputs": [
    {
     "name": "stdout",
     "output_type": "stream",
     "text": [
      "{'name': 'Priyanka', 'age': 27, 'qualification': 'MCA', 'profession': 'BI Consultant', 'experience': 3}\n"
     ]
    }
   ],
   "source": [
    "#1st Method\n",
    "dict1= {'name':'Priyanka',\n",
    "       'age':27,\n",
    "       'qualification':'MCA',\n",
    "       'profession':'BI Consultant',\n",
    "       'experience':3\n",
    "      }\n",
    "print(dict1)"
   ]
  },
  {
   "cell_type": "code",
   "execution_count": 2,
   "metadata": {},
   "outputs": [
    {
     "name": "stdout",
     "output_type": "stream",
     "text": [
      "{'name': 'Rishabh', 'age': 24, 'qualification': 'B.Tech', 'profession': 'Data Scientist', 'experience': 1}\n"
     ]
    }
   ],
   "source": [
    "#2 Defining a dictionary by using dict function \n",
    "x=dict([\n",
    "     ('name','Rishabh'),\n",
    "       ('age',24),\n",
    "       ('qualification','B.Tech'),\n",
    "       ('profession','Data Scientist'),\n",
    "       ('experience',1)])\n",
    "print(x)"
   ]
  },
  {
   "cell_type": "code",
   "execution_count": 3,
   "metadata": {},
   "outputs": [
    {
     "name": "stdout",
     "output_type": "stream",
     "text": [
      "{'name': 'Priyanshu', 'age': 25, 'qualification': 'B Tech', 'profession': 'BI Analyst', 'experience': 1.5}\n"
     ]
    }
   ],
   "source": [
    "#3 \n",
    "y=dict(\n",
    "        name='Priyanshu',\n",
    "        age=25,\n",
    "       qualification='B Tech',\n",
    "       profession='BI Analyst',\n",
    "       experience= 1.5)\n",
    "print(y)"
   ]
  },
  {
   "cell_type": "code",
   "execution_count": 5,
   "metadata": {},
   "outputs": [
    {
     "name": "stdout",
     "output_type": "stream",
     "text": [
      "Ashish\n"
     ]
    }
   ],
   "source": [
    "y['name']='Ashish'   # Changing the name in the dictionary\n",
    "print(y['name'])"
   ]
  },
  {
   "cell_type": "code",
   "execution_count": 6,
   "metadata": {},
   "outputs": [
    {
     "data": {
      "text/plain": [
       "{'name': 'Ashish',\n",
       " 'age': 25,\n",
       " 'qualification': 'B Tech',\n",
       " 'profession': 'BI Analyst',\n",
       " 'experience': 1.5}"
      ]
     },
     "execution_count": 6,
     "metadata": {},
     "output_type": "execute_result"
    }
   ],
   "source": [
    "y"
   ]
  },
  {
   "cell_type": "code",
   "execution_count": 7,
   "metadata": {},
   "outputs": [],
   "source": [
    "#Looping through the dictionary"
   ]
  },
  {
   "cell_type": "code",
   "execution_count": 8,
   "metadata": {},
   "outputs": [
    {
     "name": "stdout",
     "output_type": "stream",
     "text": [
      "key:name\n",
      "value:Ashish\n",
      "\n",
      "key:age\n",
      "value:25\n",
      "\n",
      "key:qualification\n",
      "value:B Tech\n",
      "\n",
      "key:profession\n",
      "value:BI Analyst\n",
      "\n",
      "key:experience\n",
      "value:1.5\n",
      "\n"
     ]
    }
   ],
   "source": [
    "for a,b in y.items():\n",
    "    print(f\"key:{a}\")\n",
    "    print(f\"value:{b}\\n\")"
   ]
  },
  {
   "cell_type": "code",
   "execution_count": null,
   "metadata": {},
   "outputs": [],
   "source": [
    "\n",
    "access only keys"
   ]
  },
  {
   "cell_type": "code",
   "execution_count": 9,
   "metadata": {},
   "outputs": [
    {
     "name": "stdout",
     "output_type": "stream",
     "text": [
      "Ashish\n",
      "25\n",
      "B Tech\n",
      "BI Analyst\n",
      "1.5\n"
     ]
    }
   ],
   "source": [
    "for b in y.values():\n",
    "    print(b)"
   ]
  },
  {
   "cell_type": "code",
   "execution_count": 10,
   "metadata": {},
   "outputs": [
    {
     "ename": "SyntaxError",
     "evalue": "invalid syntax (<ipython-input-10-91587e15891e>, line 1)",
     "output_type": "error",
     "traceback": [
      "\u001b[1;36m  File \u001b[1;32m\"<ipython-input-10-91587e15891e>\"\u001b[1;36m, line \u001b[1;32m1\u001b[0m\n\u001b[1;33m    survey:student and favorite language using dictionary\u001b[0m\n\u001b[1;37m                                       ^\u001b[0m\n\u001b[1;31mSyntaxError\u001b[0m\u001b[1;31m:\u001b[0m invalid syntax\n"
     ]
    }
   ],
   "source": [
    "\n",
    "survey:student and favorite language using dictionary"
   ]
  },
  {
   "cell_type": "code",
   "execution_count": 12,
   "metadata": {},
   "outputs": [
    {
     "name": "stdout",
     "output_type": "stream",
     "text": [
      "{'faiyaz': 'python', 'Priyanka': 'Tableau', 'Rishabh': 'Machine Learning', 'priyanshu': 'Power BI'}\n"
     ]
    }
   ],
   "source": [
    "student_lang={'faiyaz':'python','Priyanka':'Tableau','Rishabh':'Machine Learning','priyanshu':'Power BI'}\n",
    "print(student_lang)"
   ]
  },
  {
   "cell_type": "code",
   "execution_count": 13,
   "metadata": {},
   "outputs": [
    {
     "name": "stdout",
     "output_type": "stream",
     "text": [
      "favorite language of Faiyaz is Python\n",
      "favorite language of Priyanka is Tableau\n",
      "favorite language of Rishabh is Machine Learning\n",
      "favorite language of Priyanshu is Power Bi\n"
     ]
    }
   ],
   "source": [
    "for name,lang in student_lang.items():\n",
    "    print(f\"favorite language of {name.title()} is {lang.title()}\")"
   ]
  },
  {
   "cell_type": "code",
   "execution_count": null,
   "metadata": {},
   "outputs": [],
   "source": []
  }
 ],
 "metadata": {
  "kernelspec": {
   "display_name": "Python 3",
   "language": "python",
   "name": "python3"
  },
  "language_info": {
   "codemirror_mode": {
    "name": "ipython",
    "version": 3
   },
   "file_extension": ".py",
   "mimetype": "text/x-python",
   "name": "python",
   "nbconvert_exporter": "python",
   "pygments_lexer": "ipython3",
   "version": "3.7.4"
  }
 },
 "nbformat": 4,
 "nbformat_minor": 2
}
